{
 "cells": [
  {
   "cell_type": "markdown",
   "metadata": {},
   "source": [
    "# Implemrntation of k-nearest neighbor algorithm from scratch and applied to Boston dataset fron Sk-learn"
   ]
  },
  {
   "cell_type": "code",
   "execution_count": 1,
   "metadata": {},
   "outputs": [
    {
     "name": "stdout",
     "output_type": "stream",
     "text": [
      "Error: 151\n",
      "Number of errors: 147\n",
      "Error rate: 0.9671052631578947\n",
      "1.1745223999023438 seconds\n"
     ]
    }
   ],
   "source": [
    "from sklearn import datasets\n",
    "from sklearn.model_selection import train_test_split\n",
    "import numpy as np\n",
    "from sklearn.metrics import mean_squared_error\n",
    "import matplotlib.pyplot as plt\n",
    "import math\n",
    "\n",
    "boston=datasets.load_boston()\n",
    "x=boston.data[:,:]\n",
    "y=boston.target\n",
    "\n",
    "X_train, X_test, y_train, y_test=train_test_split(x,y,test_size=0.3,random_state=102)\n",
    "\n",
    "def dist(x1,x2):\n",
    "    return np.linalg.norm(x1-x2)\n",
    "\n",
    "def nearest(x,X):\n",
    "    current_record = math.inf\n",
    "    for n in range(X.shape[0]):\n",
    "        current_dist = dist(x,X[n])\n",
    "        if current_dist < current_record:\n",
    "            current_record = current_dist\n",
    "            current_record_holder = n\n",
    "    return current_record, current_record_holder\n",
    "\n",
    "import time\n",
    "start = time.time()\n",
    "n_test = X_test.shape[0]\n",
    "n_errors = 0\n",
    "prediction = np.zeros(n_test,dtype=int)\n",
    "for n in range(n_test):\n",
    "    prediction[n] = y_train[nearest(X_test[n],X_train)[1]]\n",
    "    if prediction[n] != y_test[n]:\n",
    "        n_errors = n_errors + 1\n",
    "print(\"Error:\",n)\n",
    "print(\"Number of errors:\",n_errors)\n",
    "print(\"Error rate:\",n_errors / n_test)\n",
    "print(time.time() - start,\"seconds\")\n"
   ]
  }
 ],
 "metadata": {
  "kernelspec": {
   "display_name": "Python 3",
   "language": "python",
   "name": "python3"
  },
  "language_info": {
   "codemirror_mode": {
    "name": "ipython",
    "version": 3
   },
   "file_extension": ".py",
   "mimetype": "text/x-python",
   "name": "python",
   "nbconvert_exporter": "python",
   "pygments_lexer": "ipython3",
   "version": "3.8.5"
  }
 },
 "nbformat": 4,
 "nbformat_minor": 4
}
