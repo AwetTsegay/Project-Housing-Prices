{
 "cells": [
  {
   "cell_type": "markdown",
   "metadata": {},
   "source": [
    "## KNN regression model for predicting house price with Boston Housing Dataset"
   ]
  },
  {
   "cell_type": "code",
   "execution_count": 1,
   "metadata": {},
   "outputs": [
    {
     "name": "stdout",
     "output_type": "stream",
     "text": [
      "MSE value for k=  1 is: 52.069736842105264\n",
      "MSE value for k=  2 is: 41.056726973684206\n",
      "MSE value for k=  3 is: 42.38861842105264\n",
      "MSE value for k=  4 is: 44.16745065789473\n",
      "MSE value for k=  5 is: 40.99719736842106\n",
      "MSE value for k=  6 is: 39.929205043859646\n",
      "MSE value for k=  7 is: 40.511697099892594\n",
      "MSE value for k=  8 is: 38.973344983552636\n",
      "MSE value for k=  9 is: 38.55725064977258\n",
      "MSE value for k=  10 is: 38.853878289473684\n",
      "MSE value for k=  11 is: 38.987844715093516\n",
      "MSE value for k=  12 is: 40.50879797149122\n",
      "MSE value for k=  13 is: 41.166428682653375\n",
      "MSE value for k=  14 is: 43.0698419038668\n",
      "MSE value for k=  15 is: 44.86796023391812\n",
      "MSE value for k=  16 is: 46.46832879317434\n",
      "MSE value for k=  17 is: 47.82060599162265\n"
     ]
    }
   ],
   "source": [
    "from sklearn import datasets\n",
    "from sklearn.model_selection import train_test_split\n",
    "import numpy as np\n",
    "from sklearn.metrics import mean_squared_error\n",
    "import matplotlib.pyplot as plt\n",
    "import math\n",
    "\n",
    "boston=datasets.load_boston()\n",
    "x=boston.data[:,:]\n",
    "y=boston.target\n",
    "\n",
    "xtrain,xtest,ytrain,ytest=train_test_split(x,y,test_size=0.3,random_state=102)\n",
    "\n",
    "##function to find Euclidean distance\n",
    "def edist(v1,v2):\n",
    "    return np.sqrt(np.sum((v1-v2)**2))\n",
    "##function to predict values using knn for given test data tx\n",
    "def knn_reg(tr_x, tr_y, tx , k):\n",
    "   \n",
    "    distances = []\n",
    "    \n",
    "    #Find distances between new data and all the training data\n",
    "    for i in range(tr_x.shape[0]):\n",
    "        distances.append(edist(tr_x[i], tx))\n",
    "    \n",
    "    #sort the distances in ascending order\n",
    "    distances = np.array(distances)\n",
    "    inds = np.argsort(distances)\n",
    "    \n",
    "    distances = distances[inds]\n",
    "    tr_y_sorted = tr_y[inds] #sorted values of target variable\n",
    "    \n",
    "    #predicted value is the average of first k values of target\n",
    "    #vector\n",
    "    value = np.average(tr_y_sorted[:k])\n",
    "    return value\n",
    "\n",
    "##Function to find mean squared error for the entire test dataset\n",
    "def knn_mse(tr_x , tr_y, test_x , test_y , k):\n",
    "    preds = []\n",
    "    for i in range(test_x.shape[0]):\n",
    "        value = knn_reg(tr_x, tr_y, test_x[i] , k)\n",
    "        preds.append(value)\n",
    "    \n",
    "    preds  = np.array(preds)\n",
    "    err = mean_squared_error(test_y , preds)\n",
    "    return err\n",
    "\n",
    "##Finding MSEs for different values of k \n",
    "maxk=int(math.sqrt(xtrain.shape[0])) #maximum value of k \n",
    "mse_val = [] #to store rmse values for different k\n",
    "for k in range(1,maxk):\n",
    "    error= knn_mse(xtrain , ytrain , xtest , ytest ,k)\n",
    "    mse_val.append(error) #store rmse values\n",
    "    print('MSE value for k= ' , k , 'is:', error)"
   ]
  },
  {
   "cell_type": "code",
   "execution_count": 2,
   "metadata": {},
   "outputs": [
    {
     "name": "stdout",
     "output_type": "stream",
     "text": [
      "Best Value of k using elbow curve is  9\n"
     ]
    },
    {
     "data": {
      "text/plain": [
       "Text(9, 38.55725064977258, 'elbow point')"
      ]
     },
     "execution_count": 2,
     "metadata": {},
     "output_type": "execute_result"
    },
    {
     "data": {
      "image/png": "[encoded data removed]",
      "text/plain": [
       "<Figure size 432x288 with 1 Axes>"
      ]
     },
     "metadata": {
      "needs_background": "light"
     },
     "output_type": "display_data"
    }
   ],
   "source": [
    "##plotting the elbow curve \n",
    "k=np.arange(1,maxk)\n",
    "xl=\"k\"\n",
    "yl=\"MSE\"\n",
    "plt.xlabel(xl) \n",
    "plt.ylabel(yl)\n",
    "plt.title(\"Elbow Curve\")\n",
    "plt.plot(k,mse_val)\n",
    "##finding the k for the elbow point \n",
    "#ke=find_elbow()\n",
    "ke = 9\n",
    "print(\"Best Value of k using elbow curve is \",ke)\n",
    "plt.plot(ke,mse_val[ke-1],'rx')\n",
    "plt.annotate(\"elbow point\", (ke,mse_val[ke-1]))"
   ]
  },
  {
   "cell_type": "code",
   "execution_count": 3,
   "metadata": {},
   "outputs": [
    {
     "name": "stdout",
     "output_type": "stream",
     "text": [
      "Predicted price of the given house is 24.00 thousand dollars\n"
     ]
    }
   ],
   "source": [
    "## Now model is ready to predict the cost for new house with given features in xnew vector and ke as k\n",
    "xnew=np.array([2.7310e-02, 0.0000e+00, 7.0700e+00, 0.0000e+00,  4.6900e-01, 6.4210e+00, 7.8900e+01, 4.9671e+00, 2.0000e+00, 2.4200e+02, 1.7800e+01, 3.9690e+02 ,9.1400e+00])\n",
    "hcost=knn_reg(xtrain, ytrain, xnew , 9)\n",
    "print(\"Predicted price of the given house is {:.2f}\".format(hcost), \"thousand dollars\")"
   ]
  }
 ],
 "metadata": {
  "kernelspec": {
   "display_name": "Python 3",
   "language": "python",
   "name": "python3"
  },
  "language_info": {
   "codemirror_mode": {
    "name": "ipython",
    "version": 3
   },
   "file_extension": ".py",
   "mimetype": "text/x-python",
   "name": "python",
   "nbconvert_exporter": "python",
   "pygments_lexer": "ipython3",
   "version": "3.8.5"
  }
 },
 "nbformat": 4,
 "nbformat_minor": 4
}
