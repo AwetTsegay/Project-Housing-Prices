{
 "cells": [
  {
   "cell_type": "markdown",
   "metadata": {},
   "source": [
    "# Implemrntation of k-nearest neighbor algorithm from scratch and applied to Boston dataset fron Sk-learn"
   ]
  },
  {
   "cell_type": "code",
   "execution_count": 1,
   "metadata": {},
   "outputs": [],
   "source": [
    "# built in datasets and other required functions are imported from \n",
    "# sklearn \n",
    "from sklearn import datasets\n",
    "from sklearn.model_selection import train_test_split\n",
    "import numpy as np\n",
    "from sklearn.metrics import mean_squared_error\n",
    "import matplotlib.pyplot as plt\n",
    "import math"
   ]
  },
  {
   "cell_type": "code",
   "execution_count": 2,
   "metadata": {},
   "outputs": [
    {
     "name": "stdout",
     "output_type": "stream",
     "text": [
      "(506, 13) (506,)\n"
     ]
    }
   ],
   "source": [
    "#Loading the Boston dataset\n",
    "boston=datasets.load_boston()\n",
    "x=boston.data[:,:]\n",
    "y=boston.target\n",
    "print(x.shape,y.shape)"
   ]
  },
  {
   "cell_type": "code",
   "execution_count": 3,
   "metadata": {},
   "outputs": [],
   "source": [
    "tsize=0.30 #30% of total data is used for testing and 70% used for training\n",
    "## splitting the dataset into training and testing sets,\n",
    "# (parameter random state is fixed at some integer, to ensure the \n",
    "# same train and test sets across various runs)\n",
    "xtrain,xtest,ytrain,ytest=train_test_split(x,y,test_size=tsize,random_state=102)"
   ]
  },
  {
   "cell_type": "code",
   "execution_count": 4,
   "metadata": {},
   "outputs": [
    {
     "name": "stdout",
     "output_type": "stream",
     "text": [
      "(354, 13) (354,)\n",
      "(152, 13) (152,)\n"
     ]
    }
   ],
   "source": [
    "print(xtrain.shape,ytrain.shape)\n",
    "print(xtest.shape,ytest.shape)"
   ]
  },
  {
   "cell_type": "code",
   "execution_count": 5,
   "metadata": {},
   "outputs": [],
   "source": [
    "##function to find Euclidean distance\n",
    "def edist(v1,v2):\n",
    "    return np.sqrt(np.sum((v1-v2)**2))\n",
    "##function to predict values using knn for given test data tx\n",
    "def knn_reg(tr_x, tr_y, tx , k):\n",
    "   \n",
    "    distances = []\n",
    "    \n",
    "    #Find distances between new data and all the training data\n",
    "    for i in range(tr_x.shape[0]):\n",
    "        distances.append(edist(tr_x[i], tx))\n",
    "    \n",
    "    #sort the distances in ascending order\n",
    "    distances = np.array(distances)\n",
    "    inds = np.argsort(distances)\n",
    "    \n",
    "    distances = distances[inds]\n",
    "    tr_y_sorted = tr_y[inds] #sorted values of target variable\n",
    "    \n",
    "    #predicted value is the average of first k values of target\n",
    "    #vector\n",
    "    value = np.average(tr_y_sorted[:k])\n",
    "    return value"
   ]
  },
  {
   "cell_type": "code",
   "execution_count": 6,
   "metadata": {},
   "outputs": [],
   "source": [
    "##Function to find mean squared error for the entire test dataset\n",
    "def knn_mse(tr_x , tr_y, test_x , test_y , k):\n",
    "    preds = []\n",
    "    for i in range(test_x.shape[0]):\n",
    "        value = knn_reg(tr_x, tr_y, test_x[i] , k)\n",
    "        preds.append(value)\n",
    "    \n",
    "    preds  = np.array(preds)\n",
    "    err = mean_squared_error(test_y , preds)\n",
    "    return err"
   ]
  },
  {
   "cell_type": "code",
   "execution_count": 7,
   "metadata": {},
   "outputs": [
    {
     "name": "stdout",
     "output_type": "stream",
     "text": [
      "MSE value for k=  1 is: 52.07\n",
      "MSE value for k=  2 is: 41.057\n",
      "MSE value for k=  3 is: 42.389\n",
      "MSE value for k=  4 is: 44.167\n",
      "MSE value for k=  5 is: 40.997\n",
      "MSE value for k=  6 is: 39.929\n",
      "MSE value for k=  7 is: 40.512\n",
      "MSE value for k=  8 is: 38.973\n",
      "MSE value for k=  9 is: 38.557\n",
      "MSE value for k=  10 is: 38.854\n",
      "MSE value for k=  11 is: 38.988\n",
      "MSE value for k=  12 is: 40.509\n",
      "MSE value for k=  13 is: 41.166\n",
      "MSE value for k=  14 is: 43.07\n",
      "MSE value for k=  15 is: 44.868\n",
      "MSE value for k=  16 is: 46.468\n",
      "MSE value for k=  17 is: 47.821\n"
     ]
    }
   ],
   "source": [
    "##Finding MSEs for different values of k \n",
    "maxk=int(math.sqrt(xtrain.shape[0])) #maximum value of k \n",
    "mse_val = [] #to store rmse values for different k\n",
    "for k in range(1,maxk):\n",
    "    error= knn_mse(xtrain , ytrain , xtest , ytest ,k)\n",
    "    mse_val.append(error) #store rmse values\n",
    "    print('MSE value for k= ' , k , 'is:', round(error,3))"
   ]
  },
  {
   "cell_type": "code",
   "execution_count": 8,
   "metadata": {},
   "outputs": [
    {
     "name": "stdout",
     "output_type": "stream",
     "text": [
      "The minimum value of mse is:  38.55725064977258\n",
      "Wheb k is:  9\n"
     ]
    }
   ],
   "source": [
    "a = min(mse_val)\n",
    "print(\"The minimum value of mse is: \", a)\n",
    "ke = mse_val.index(a) + 1\n",
    "print(\"When k is: \", ke)"
   ]
  },
  {
   "cell_type": "code",
   "execution_count": 9,
   "metadata": {},
   "outputs": [
    {
     "name": "stdout",
     "output_type": "stream",
     "text": [
      "Best Value of k using elbow curve is  9\n"
     ]
    },
    {
     "data": {
      "text/plain": [
       "Text(9, 38.55725064977258, '   elbow point')"
      ]
     },
     "execution_count": 9,
     "metadata": {},
     "output_type": "execute_result"
    },
    {
     "data": {
      "image/png": "[encoded data removed]",
      "text/plain": [
       "<Figure size 432x288 with 1 Axes>"
      ]
     },
     "metadata": {
      "needs_background": "light"
     },
     "output_type": "display_data"
    }
   ],
   "source": [
    "##plotting the elbow curve \n",
    "k=np.arange(1,maxk)\n",
    "xl=\"k\"\n",
    "yl=\"MSE\"\n",
    "plt.xlabel(xl) \n",
    "plt.ylabel(yl)\n",
    "plt.title(\"Elbow Curve\")\n",
    "plt.plot(k,mse_val)\n",
    "##finding the k for the elbow point \n",
    "# ke=find_elbow()\n",
    "print(\"Best Value of k using elbow curve is \",ke)\n",
    "plt.plot(ke,mse_val[ke-1],'rx')\n",
    "plt.annotate(\"   elbow point\", (ke,mse_val[ke-1]))"
   ]
  }
 ],
 "metadata": {
  "kernelspec": {
   "display_name": "Python 3",
   "language": "python",
   "name": "python3"
  },
  "language_info": {
   "codemirror_mode": {
    "name": "ipython",
    "version": 3
   },
   "file_extension": ".py",
   "mimetype": "text/x-python",
   "name": "python",
   "nbconvert_exporter": "python",
   "pygments_lexer": "ipython3",
   "version": "3.8.5"
  }
 },
 "nbformat": 4,
 "nbformat_minor": 4
}
